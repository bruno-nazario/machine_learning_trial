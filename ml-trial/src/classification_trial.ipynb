{
 "cells": [
  {
   "cell_type": "markdown",
   "metadata": {},
   "source": [
    "# Classificação:\n",
    "\n",
    "Algoritmos: KNN, Decision Tree, Random Forest e Logistic Regression\n",
    "\n",
    "Métricas de performance: Accuracy, Precision, Recall e F1-Score"
   ]
  },
  {
   "cell_type": "markdown",
   "metadata": {},
   "source": [
    "### Imports"
   ]
  },
  {
   "cell_type": "code",
   "execution_count": 1,
   "metadata": {},
   "outputs": [],
   "source": [
    "import pandas as pd\n",
    "import numpy as np\n",
    "\n",
    "from sklearn.neighbors import KNeighborsClassifier\n",
    "from sklearn.metrics import accuracy_score, precision_score, f1_score, recall_score\n",
    "from sklearn.tree import DecisionTreeClassifier \n",
    "from sklearn.ensemble import RandomForestClassifier\n",
    "from sklearn.linear_model import LogisticRegression\n",
    "from sklearn import model_selection as ms\n",
    "\n",
    "from matplotlib import pyplot as plt\n",
    "\n"
   ]
  },
  {
   "cell_type": "markdown",
   "metadata": {},
   "source": [
    "### Reading the data"
   ]
  },
  {
   "cell_type": "code",
   "execution_count": 2,
   "metadata": {},
   "outputs": [],
   "source": [
    "X_train = pd.read_csv('../data/X_training_classification.csv')\n",
    "X_test = pd.read_csv('../data/X_test_classification.csv')\n",
    "X_val = pd.read_csv('../data/X_validation_classification.csv')\n",
    "\n",
    "y_train  = pd.read_csv('../data/y_training_classification.csv')\n",
    "y_test = pd.read_csv('../data/y_test_classification.csv')\n",
    "y_val = pd.read_csv('../data/y_validation_classification.csv')\n"
   ]
  },
  {
   "cell_type": "markdown",
   "metadata": {},
   "source": [
    "## KNN "
   ]
  },
  {
   "cell_type": "markdown",
   "metadata": {},
   "source": [
    "### Train"
   ]
  },
  {
   "cell_type": "code",
   "execution_count": 3,
   "metadata": {},
   "outputs": [
    {
     "name": "stderr",
     "output_type": "stream",
     "text": [
      "c:\\Users\\bruni\\AppData\\Local\\Programs\\Python\\Python312\\Lib\\site-packages\\sklearn\\neighbors\\_classification.py:238: DataConversionWarning: A column-vector y was passed when a 1d array was expected. Please change the shape of y to (n_samples,), for example using ravel().\n",
      "  return self._fit(X, y)\n"
     ]
    },
    {
     "name": "stdout",
     "output_type": "stream",
     "text": [
      " Neighbors = 3\n",
      "Accuracy: 0.8321864441839619\n",
      "Precision: 0.8120079059067492\n",
      "Recall: 0.7974099529082347\n",
      "F1 Score: 0.8046427252733139\n"
     ]
    },
    {
     "name": "stderr",
     "output_type": "stream",
     "text": [
      "c:\\Users\\bruni\\AppData\\Local\\Programs\\Python\\Python312\\Lib\\site-packages\\sklearn\\neighbors\\_classification.py:238: DataConversionWarning: A column-vector y was passed when a 1d array was expected. Please change the shape of y to (n_samples,), for example using ravel().\n",
      "  return self._fit(X, y)\n"
     ]
    },
    {
     "name": "stdout",
     "output_type": "stream",
     "text": [
      " Neighbors = 5\n",
      "Accuracy: 0.7815624353582018\n",
      "Precision: 0.7558933613500558\n",
      "Recall: 0.7325633193330788\n",
      "F1 Score: 0.744045503021685\n"
     ]
    },
    {
     "name": "stderr",
     "output_type": "stream",
     "text": [
      "c:\\Users\\bruni\\AppData\\Local\\Programs\\Python\\Python312\\Lib\\site-packages\\sklearn\\neighbors\\_classification.py:238: DataConversionWarning: A column-vector y was passed when a 1d array was expected. Please change the shape of y to (n_samples,), for example using ravel().\n",
      "  return self._fit(X, y)\n"
     ]
    },
    {
     "name": "stdout",
     "output_type": "stream",
     "text": [
      " Neighbors = 7\n",
      "Accuracy: 0.7563124870716403\n",
      "Precision: 0.731248949403261\n",
      "Recall: 0.6920898561792033\n",
      "F1 Score: 0.7111307276085855\n"
     ]
    },
    {
     "name": "stderr",
     "output_type": "stream",
     "text": [
      "c:\\Users\\bruni\\AppData\\Local\\Programs\\Python\\Python312\\Lib\\site-packages\\sklearn\\neighbors\\_classification.py:238: DataConversionWarning: A column-vector y was passed when a 1d array was expected. Please change the shape of y to (n_samples,), for example using ravel().\n",
      "  return self._fit(X, y)\n"
     ]
    },
    {
     "name": "stdout",
     "output_type": "stream",
     "text": [
      " Neighbors = 9\n",
      "Accuracy: 0.7399986209749707\n",
      "Precision: 0.7138144470140116\n",
      "Recall: 0.6678439607992872\n",
      "F1 Score: 0.6900644397685429\n"
     ]
    },
    {
     "name": "stderr",
     "output_type": "stream",
     "text": [
      "c:\\Users\\bruni\\AppData\\Local\\Programs\\Python\\Python312\\Lib\\site-packages\\sklearn\\neighbors\\_classification.py:238: DataConversionWarning: A column-vector y was passed when a 1d array was expected. Please change the shape of y to (n_samples,), for example using ravel().\n",
      "  return self._fit(X, y)\n"
     ]
    },
    {
     "name": "stdout",
     "output_type": "stream",
     "text": [
      " Neighbors = 11\n",
      "Accuracy: 0.7295594015031373\n",
      "Precision: 0.7046517266461155\n",
      "Recall: 0.6473208603792796\n",
      "F1 Score: 0.6747707258826846\n"
     ]
    }
   ],
   "source": [
    "for i in range (3, 12, 2):\n",
    "    # model \n",
    "    knn_classifier = KNeighborsClassifier(n_neighbors=i)\n",
    "    # fit \n",
    "    knn_classifier.fit(X_train, y_train)\n",
    "    # predict \n",
    "    yhat_train = knn_classifier.predict(X_train)\n",
    "\n",
    "    f1 = f1_score( y_train, yhat_train )\n",
    "    accuracy = accuracy_score(y_train, yhat_train)\n",
    "    precision = precision_score(y_train, yhat_train)\n",
    "    recall = recall_score(y_train, yhat_train)\n",
    "\n",
    "    print(\" Neighbors = {}\".format(i))\n",
    "    print( \"Accuracy: {}\".format( accuracy ) )\n",
    "    print( \"Precision: {}\".format( precision ) )\n",
    "    print( \"Recall: {}\".format( recall ) )\n",
    "    print( \"F1 Score: {}\".format( f1 ) )\n"
   ]
  },
  {
   "cell_type": "markdown",
   "metadata": {},
   "source": [
    "### Validation"
   ]
  },
  {
   "cell_type": "code",
   "execution_count": 4,
   "metadata": {},
   "outputs": [
    {
     "name": "stderr",
     "output_type": "stream",
     "text": [
      "c:\\Users\\bruni\\AppData\\Local\\Programs\\Python\\Python312\\Lib\\site-packages\\sklearn\\neighbors\\_classification.py:238: DataConversionWarning: A column-vector y was passed when a 1d array was expected. Please change the shape of y to (n_samples,), for example using ravel().\n",
      "  return self._fit(X, y)\n"
     ]
    },
    {
     "name": "stdout",
     "output_type": "stream",
     "text": [
      " Neighbors = 3\n",
      "Accuracy: 0.6762765854757231\n",
      "Precision: 0.6278511404561825\n",
      "Recall: 0.6212784913505086\n",
      "F1 Score: 0.6245475239765645\n"
     ]
    },
    {
     "name": "stderr",
     "output_type": "stream",
     "text": [
      "c:\\Users\\bruni\\AppData\\Local\\Programs\\Python\\Python312\\Lib\\site-packages\\sklearn\\neighbors\\_classification.py:238: DataConversionWarning: A column-vector y was passed when a 1d array was expected. Please change the shape of y to (n_samples,), for example using ravel().\n",
      "  return self._fit(X, y)\n"
     ]
    },
    {
     "name": "stdout",
     "output_type": "stream",
     "text": [
      " Neighbors = 5\n",
      "Accuracy: 0.6756652401943435\n",
      "Precision: 0.631775410218524\n",
      "Recall: 0.6031628183235578\n",
      "F1 Score: 0.6171376481312671\n"
     ]
    },
    {
     "name": "stderr",
     "output_type": "stream",
     "text": [
      "c:\\Users\\bruni\\AppData\\Local\\Programs\\Python\\Python312\\Lib\\site-packages\\sklearn\\neighbors\\_classification.py:238: DataConversionWarning: A column-vector y was passed when a 1d array was expected. Please change the shape of y to (n_samples,), for example using ravel().\n",
      "  return self._fit(X, y)\n"
     ]
    },
    {
     "name": "stdout",
     "output_type": "stream",
     "text": [
      " Neighbors = 7\n",
      "Accuracy: 0.6669777019852634\n",
      "Precision: 0.6227083169407507\n",
      "Recall: 0.5875714603905264\n",
      "F1 Score: 0.6046298418519367\n"
     ]
    },
    {
     "name": "stderr",
     "output_type": "stream",
     "text": [
      "c:\\Users\\bruni\\AppData\\Local\\Programs\\Python\\Python312\\Lib\\site-packages\\sklearn\\neighbors\\_classification.py:238: DataConversionWarning: A column-vector y was passed when a 1d array was expected. Please change the shape of y to (n_samples,), for example using ravel().\n",
      "  return self._fit(X, y)\n"
     ]
    },
    {
     "name": "stdout",
     "output_type": "stream",
     "text": [
      " Neighbors = 9\n",
      "Accuracy: 0.6664950609736477\n",
      "Precision: 0.6242395132885047\n",
      "Recall: 0.5789590912465662\n",
      "F1 Score: 0.6007472747582913\n"
     ]
    },
    {
     "name": "stderr",
     "output_type": "stream",
     "text": [
      "c:\\Users\\bruni\\AppData\\Local\\Programs\\Python\\Python312\\Lib\\site-packages\\sklearn\\neighbors\\_classification.py:238: DataConversionWarning: A column-vector y was passed when a 1d array was expected. Please change the shape of y to (n_samples,), for example using ravel().\n",
      "  return self._fit(X, y)\n"
     ]
    },
    {
     "name": "stdout",
     "output_type": "stream",
     "text": [
      " Neighbors = 11\n",
      "Accuracy: 0.6644357926574214\n",
      "Precision: 0.6234768480909829\n",
      "Recall: 0.5698270101715049\n",
      "F1 Score: 0.5954459055820629\n"
     ]
    }
   ],
   "source": [
    "for i in range (3, 12, 2):\n",
    "    # model \n",
    "    knn_classifier = KNeighborsClassifier(n_neighbors=i)\n",
    "    # fit \n",
    "    knn_classifier.fit(X_train, y_train)\n",
    "    # predict \n",
    "    yhat_val = knn_classifier.predict(X_val)\n",
    "\n",
    "    f1 = f1_score( y_val, yhat_val )\n",
    "    accuracy = accuracy_score(y_val, yhat_val)\n",
    "    precision = precision_score(y_val, yhat_val)\n",
    "    recall = recall_score(y_val, yhat_val)\n",
    "\n",
    "    print(\" Neighbors = {}\".format(i))\n",
    "    print( \"Accuracy: {}\".format( accuracy ) )\n",
    "    print( \"Precision: {}\".format( precision ) )\n",
    "    print( \"Recall: {}\".format( recall ) )\n",
    "    print( \"F1 Score: {}\".format( f1 ) )\n"
   ]
  },
  {
   "cell_type": "markdown",
   "metadata": {},
   "source": [
    "### Test"
   ]
  },
  {
   "cell_type": "code",
   "execution_count": 5,
   "metadata": {},
   "outputs": [
    {
     "name": "stderr",
     "output_type": "stream",
     "text": [
      "c:\\Users\\bruni\\AppData\\Local\\Programs\\Python\\Python312\\Lib\\site-packages\\sklearn\\neighbors\\_classification.py:238: DataConversionWarning: A column-vector y was passed when a 1d array was expected. Please change the shape of y to (n_samples,), for example using ravel().\n",
      "  return self._fit(X, y)\n"
     ]
    },
    {
     "name": "stdout",
     "output_type": "stream",
     "text": [
      "Accuracy: 0.6722280152937087\n",
      "Precision: 0.6304623753399818\n",
      "Recall: 0.6118785745710514\n",
      "F1 Score: 0.6210314802411252\n"
     ]
    }
   ],
   "source": [
    "best_k = 3 \n",
    "\n",
    "knn_classifier = KNeighborsClassifier(n_neighbors=best_k)\n",
    "knn_classifier.fit(X_train, y_train)\n",
    "\n",
    "\n",
    "yhat_test = knn_classifier.predict(X_test)\n",
    "\n",
    "f1 = f1_score( y_test, yhat_test )\n",
    "accuracy = accuracy_score(y_test, yhat_test)\n",
    "precision = precision_score(y_test, yhat_test)\n",
    "recall = recall_score(y_test, yhat_test)\n",
    "\n",
    "print( \"Accuracy: {}\".format( accuracy ) )\n",
    "print( \"Precision: {}\".format( precision ) )\n",
    "print( \"Recall: {}\".format( recall ) )\n",
    "print( \"F1 Score: {}\".format( f1 ) )"
   ]
  },
  {
   "cell_type": "code",
   "execution_count": 6,
   "metadata": {},
   "outputs": [
    {
     "name": "stderr",
     "output_type": "stream",
     "text": [
      "c:\\Users\\bruni\\AppData\\Local\\Programs\\Python\\Python312\\Lib\\site-packages\\sklearn\\neighbors\\_classification.py:238: DataConversionWarning: A column-vector y was passed when a 1d array was expected. Please change the shape of y to (n_samples,), for example using ravel().\n",
      "  return self._fit(X, y)\n",
      "c:\\Users\\bruni\\AppData\\Local\\Programs\\Python\\Python312\\Lib\\site-packages\\sklearn\\base.py:486: UserWarning: X has feature names, but KNeighborsClassifier was fitted without feature names\n",
      "  warnings.warn(\n"
     ]
    },
    {
     "name": "stdout",
     "output_type": "stream",
     "text": [
      "Accuracy: 0.6884486154559147\n",
      "Precision: 0.6480251346499102\n",
      "Recall: 0.6351957765068191\n",
      "F1 Score: 0.6415463230393246\n"
     ]
    }
   ],
   "source": [
    "# Concatenate train and validation data \n",
    "X = np.concatenate((X_train, X_val), axis=0)\n",
    "y = np.concatenate((y_train, y_val), axis=0)\n",
    "\n",
    "best_k = 3 \n",
    "\n",
    "knn_classifier = KNeighborsClassifier(n_neighbors=best_k)\n",
    "knn_classifier.fit(X, y)\n",
    "\n",
    "\n",
    "yhat_test = knn_classifier.predict(X_test)\n",
    "\n",
    "f1 = f1_score( y_test, yhat_test )\n",
    "accuracy = accuracy_score(y_test, yhat_test)\n",
    "precision = precision_score(y_test, yhat_test)\n",
    "recall = recall_score(y_test, yhat_test)\n",
    "\n",
    "print( \"Accuracy: {}\".format( accuracy ) )\n",
    "print( \"Precision: {}\".format( precision ) )\n",
    "print( \"Recall: {}\".format( recall ) )\n",
    "print( \"F1 Score: {}\".format( f1 ) )"
   ]
  },
  {
   "cell_type": "markdown",
   "metadata": {},
   "source": [
    "# Decision Tree"
   ]
  },
  {
   "cell_type": "markdown",
   "metadata": {},
   "source": [
    "### Train"
   ]
  },
  {
   "cell_type": "code",
   "execution_count": 7,
   "metadata": {},
   "outputs": [],
   "source": [
    "acuracy_list = list()\n",
    "precision_list = list()\n",
    "recall_list = list() \n",
    "f1_list = list()"
   ]
  },
  {
   "cell_type": "code",
   "execution_count": 8,
   "metadata": {},
   "outputs": [
    {
     "name": "stdout",
     "output_type": "stream",
     "text": [
      " Max Depth = 2\n",
      "Accuracy: 0.8570916362131973\n",
      "Precision: 0.8297485989793683\n",
      "Recall: 0.8432926053200968\n",
      "F1 Score: 0.8364657797976929\n",
      " Max Depth = 3\n",
      "Accuracy: 0.8841618975384403\n",
      "Precision: 0.8395058088105207\n",
      "Recall: 0.9059119256713758\n",
      "F1 Score: 0.8714456245600073\n",
      " Max Depth = 4\n",
      "Accuracy: 0.8934427359856582\n",
      "Precision: 0.9233077335238435\n",
      "Recall: 0.8224513172966781\n",
      "F1 Score: 0.8699661747134948\n",
      " Max Depth = 5\n",
      "Accuracy: 0.9067641177687376\n",
      "Precision: 0.9077324870243645\n",
      "Recall: 0.8736795214458445\n",
      "F1 Score: 0.890380530829969\n",
      " Max Depth = 6\n",
      "Accuracy: 0.9228159691098393\n",
      "Precision: 0.9018637792090607\n",
      "Recall: 0.9222667684866998\n",
      "F1 Score: 0.9119511696320418\n",
      " Max Depth = 7\n",
      "Accuracy: 0.9344825208577535\n",
      "Precision: 0.9526589065734551\n",
      "Recall: 0.8932162402952781\n",
      "F1 Score: 0.9219804581656951\n",
      " Max Depth = 8\n",
      "Accuracy: 0.9427015100324071\n",
      "Precision: 0.9503318912849642\n",
      "Recall: 0.9156484663357516\n",
      "F1 Score: 0.9326678442366592\n",
      " Max Depth = 9\n",
      "Accuracy: 0.9494863131765842\n",
      "Precision: 0.9615653156897297\n",
      "Recall: 0.9202303678248696\n",
      "F1 Score: 0.9404438663523291\n",
      " Max Depth = 10\n",
      "Accuracy: 0.9554437013031787\n",
      "Precision: 0.9636291887270216\n",
      "Recall: 0.9323851342751687\n",
      "F1 Score: 0.9477497291265747\n",
      " Max Depth = 11\n",
      "Accuracy: 0.9610563331724471\n",
      "Precision: 0.9692565128945468\n",
      "Recall: 0.9399579992363497\n",
      "F1 Score: 0.9543824508125223\n",
      " Max Depth = 12\n",
      "Accuracy: 0.9663793697855616\n",
      "Precision: 0.9768092105263158\n",
      "Recall: 0.9448580883288787\n",
      "F1 Score: 0.9605680274309374\n",
      " Max Depth = 13\n",
      "Accuracy: 0.9708612011308005\n",
      "Precision: 0.9777075253397647\n",
      "Recall: 0.9545309914725723\n",
      "F1 Score: 0.9659802611453687\n",
      " Max Depth = 14\n",
      "Accuracy: 0.9744880369578708\n",
      "Precision: 0.9816636268890047\n",
      "Recall: 0.959049255441008\n",
      "F1 Score: 0.9702246829331101\n",
      " Max Depth = 15\n",
      "Accuracy: 0.9778666482796663\n",
      "Precision: 0.9859223775540131\n",
      "Recall: 0.962676594119893\n",
      "F1 Score: 0.974160830717218\n",
      " Max Depth = 16\n",
      "Accuracy: 0.9811073570985314\n",
      "Precision: 0.9869742725682069\n",
      "Recall: 0.969199439989818\n",
      "F1 Score: 0.9780061004976722\n",
      " Max Depth = 17\n",
      "Accuracy: 0.9846928221747224\n",
      "Precision: 0.9906778015148573\n",
      "Recall: 0.9738449789996182\n",
      "F1 Score: 0.9821892750553577\n",
      " Max Depth = 18\n",
      "Accuracy: 0.9873405502309867\n",
      "Precision: 0.9916527007863865\n",
      "Recall: 0.979031436935217\n",
      "F1 Score: 0.9853016523632637\n",
      " Max Depth = 19\n",
      "Accuracy: 0.989684892780804\n",
      "Precision: 0.9930890388942463\n",
      "Recall: 0.9830406007381952\n",
      "F1 Score: 0.9880392721225495\n",
      " Max Depth = 20\n",
      "Accuracy: 0.9917120595738813\n",
      "Precision: 0.9941966719035558\n",
      "Recall: 0.9866361206567392\n",
      "F1 Score: 0.9904019675168085\n",
      " Max Depth = 21\n",
      "Accuracy: 0.9935185823622699\n",
      "Precision: 0.9961217948717949\n",
      "Recall: 0.9888952526409571\n",
      "F1 Score: 0.9924953694832982\n",
      " Max Depth = 22\n",
      "Accuracy: 0.9951458318968489\n",
      "Precision: 0.9964217252396166\n",
      "Recall: 0.9923634975181367\n",
      "F1 Score: 0.9943884708583088\n",
      " Max Depth = 23\n",
      "Accuracy: 0.9962076811694133\n",
      "Precision: 0.99712762901733\n",
      "Recall: 0.994113529336897\n",
      "F1 Score: 0.9956182979876038\n",
      " Max Depth = 24\n",
      "Accuracy: 0.9974901744466662\n",
      "Precision: 0.9976428616933172\n",
      "Recall: 0.9965635738831615\n",
      "F1 Score: 0.9971029257266563\n",
      " Max Depth = 25\n",
      "Accuracy: 0.998372750465421\n",
      "Precision: 0.9980909958638243\n",
      "Recall: 0.9981545119002163\n",
      "F1 Score: 0.9981227528715517\n",
      " Max Depth = 26\n",
      "Accuracy: 0.9989519409777288\n",
      "Precision: 0.9991085073866531\n",
      "Recall: 0.9984726995036274\n",
      "F1 Score: 0.998790502259851\n",
      " Max Depth = 27\n",
      "Accuracy: 0.999351858236227\n",
      "Precision: 0.9998088745898768\n",
      "Recall: 0.998695430826015\n",
      "F1 Score: 0.9992518425367314\n",
      " Max Depth = 28\n",
      "Accuracy: 0.9995449217403296\n",
      "Precision: 0.999745312151794\n",
      "Recall: 0.9992045309914726\n",
      "F1 Score: 0.9994748484221582\n",
      " Max Depth = 29\n",
      "Accuracy: 0.9997931462456043\n",
      "Precision: 0.9999363401979819\n",
      "Recall: 0.9995863561155658\n",
      "F1 Score: 0.9997613175272496\n",
      " Max Depth = 30\n",
      "Accuracy: 0.9998896779976557\n",
      "Precision: 0.9998727249586357\n",
      "Recall: 0.9998727249586357\n",
      "F1 Score: 0.9998727249586357\n",
      " Max Depth = 31\n",
      "Accuracy: 0.999972419499414\n",
      "Precision: 0.9999681812396589\n",
      "Recall: 0.9999681812396589\n",
      "F1 Score: 0.9999681812396589\n",
      " Max Depth = 32\n",
      "Accuracy: 1.0\n",
      "Precision: 1.0\n",
      "Recall: 1.0\n",
      "F1 Score: 1.0\n",
      " Max Depth = 33\n",
      "Accuracy: 1.0\n",
      "Precision: 1.0\n",
      "Recall: 1.0\n",
      "F1 Score: 1.0\n",
      " Max Depth = 34\n",
      "Accuracy: 1.0\n",
      "Precision: 1.0\n",
      "Recall: 1.0\n",
      "F1 Score: 1.0\n",
      " Max Depth = 35\n",
      "Accuracy: 1.0\n",
      "Precision: 1.0\n",
      "Recall: 1.0\n",
      "F1 Score: 1.0\n",
      " Max Depth = 36\n",
      "Accuracy: 1.0\n",
      "Precision: 1.0\n",
      "Recall: 1.0\n",
      "F1 Score: 1.0\n",
      " Max Depth = 37\n",
      "Accuracy: 1.0\n",
      "Precision: 1.0\n",
      "Recall: 1.0\n",
      "F1 Score: 1.0\n",
      " Max Depth = 38\n",
      "Accuracy: 1.0\n",
      "Precision: 1.0\n",
      "Recall: 1.0\n",
      "F1 Score: 1.0\n",
      " Max Depth = 39\n",
      "Accuracy: 1.0\n",
      "Precision: 1.0\n",
      "Recall: 1.0\n",
      "F1 Score: 1.0\n",
      " Max Depth = 40\n",
      "Accuracy: 1.0\n",
      "Precision: 1.0\n",
      "Recall: 1.0\n",
      "F1 Score: 1.0\n",
      " Max Depth = 41\n",
      "Accuracy: 1.0\n",
      "Precision: 1.0\n",
      "Recall: 1.0\n",
      "F1 Score: 1.0\n",
      " Max Depth = 42\n",
      "Accuracy: 1.0\n",
      "Precision: 1.0\n",
      "Recall: 1.0\n",
      "F1 Score: 1.0\n",
      " Max Depth = 43\n",
      "Accuracy: 1.0\n",
      "Precision: 1.0\n",
      "Recall: 1.0\n",
      "F1 Score: 1.0\n",
      " Max Depth = 44\n",
      "Accuracy: 1.0\n",
      "Precision: 1.0\n",
      "Recall: 1.0\n",
      "F1 Score: 1.0\n",
      " Max Depth = 45\n",
      "Accuracy: 1.0\n",
      "Precision: 1.0\n",
      "Recall: 1.0\n",
      "F1 Score: 1.0\n",
      " Max Depth = 46\n",
      "Accuracy: 1.0\n",
      "Precision: 1.0\n",
      "Recall: 1.0\n",
      "F1 Score: 1.0\n",
      " Max Depth = 47\n",
      "Accuracy: 1.0\n",
      "Precision: 1.0\n",
      "Recall: 1.0\n",
      "F1 Score: 1.0\n",
      " Max Depth = 48\n",
      "Accuracy: 1.0\n",
      "Precision: 1.0\n",
      "Recall: 1.0\n",
      "F1 Score: 1.0\n",
      " Max Depth = 49\n",
      "Accuracy: 1.0\n",
      "Precision: 1.0\n",
      "Recall: 1.0\n",
      "F1 Score: 1.0\n"
     ]
    }
   ],
   "source": [
    "for i in range (2, 50):\n",
    "    tree_classifier = DecisionTreeClassifier(max_depth=i)\n",
    "\n",
    "    # fit\n",
    "    tree_classifier.fit(X_train, y_train)\n",
    "    # predict\n",
    "    yhat_train = tree_classifier.predict(X_train)\n",
    "\n",
    "    f1 = f1_score( y_train, yhat_train )\n",
    "    accuracy = accuracy_score(y_train, yhat_train)\n",
    "    precision = precision_score(y_train, yhat_train)\n",
    "    recall = recall_score(y_train, yhat_train)\n",
    "\n",
    "    print(\" Max Depth = {}\".format(i))\n",
    "    print( \"Accuracy: {}\".format( accuracy ) )\n",
    "    print( \"Precision: {}\".format( precision ) )\n",
    "    print( \"Recall: {}\".format( recall ) )\n",
    "    print( \"F1 Score: {}\".format( f1 ) )\n",
    "\n",
    "    f1_list.append(f1)\n",
    "    acuracy_list.append(accuracy)\n",
    "    precision_list.append(precision)\n",
    "    recall_list.append(recall)"
   ]
  },
  {
   "cell_type": "markdown",
   "metadata": {},
   "source": [
    "### Validation"
   ]
  },
  {
   "cell_type": "code",
   "execution_count": 9,
   "metadata": {},
   "outputs": [
    {
     "name": "stdout",
     "output_type": "stream",
     "text": [
      " Max Depth = 2\n",
      "Accuracy: 0.8564947392129734\n",
      "Precision: 0.8300241775954282\n",
      "Recall: 0.8411166382062514\n",
      "F1 Score: 0.8355335939228556\n",
      " Max Depth = 3\n",
      "Accuracy: 0.885453199909907\n",
      "Precision: 0.8403984884919272\n",
      "Recall: 0.9081594773182864\n",
      "F1 Score: 0.8729660291178989\n",
      " Max Depth = 4\n",
      "Accuracy: 0.8934650407027254\n",
      "Precision: 0.9241690329046267\n",
      "Recall: 0.8215903185091692\n",
      "F1 Score: 0.8698659749243407\n",
      " Max Depth = 5\n",
      "Accuracy: 0.9066894044209917\n",
      "Precision: 0.9065312716362797\n",
      "Recall: 0.8748979137278194\n",
      "F1 Score: 0.8904337312981714\n",
      " Max Depth = 6\n",
      "Accuracy: 0.9225843817368641\n",
      "Precision: 0.9001084990958409\n",
      "Recall: 0.9238993243744895\n",
      "F1 Score: 0.9118487579687844\n",
      " Max Depth = 7\n",
      "Accuracy: 0.933685125004022\n",
      "Precision: 0.9526265672115537\n",
      "Recall: 0.8913059618382954\n",
      "F1 Score: 0.9209466456982854\n",
      " Max Depth = 8\n",
      "Accuracy: 0.9399272820875832\n",
      "Precision: 0.9477462179685088\n",
      "Recall: 0.911648971712822\n",
      "F1 Score: 0.9293472090823084\n",
      " Max Depth = 9\n",
      "Accuracy: 0.9443354033270054\n",
      "Precision: 0.9559543230016313\n",
      "Recall: 0.9136535748756404\n",
      "F1 Score: 0.9343254118897578\n",
      " Max Depth = 10\n",
      "Accuracy: 0.947456481868786\n",
      "Precision: 0.9546013212475034\n",
      "Recall: 0.9226371668275298\n",
      "F1 Score: 0.9383471136784083\n",
      " Max Depth = 11\n",
      "Accuracy: 0.9501270954663921\n",
      "Precision: 0.9570519211595981\n",
      "Recall: 0.9264978840299948\n",
      "F1 Score: 0.9415270861626679\n",
      " Max Depth = 12\n",
      "Accuracy: 0.9518646031082081\n",
      "Precision: 0.9587004827216306\n",
      "Recall: 0.9289479545623283\n",
      "F1 Score: 0.9435897435897436\n",
      " Max Depth = 13\n",
      "Accuracy: 0.9518967791756492\n",
      "Precision: 0.9558398050860363\n",
      "Recall: 0.9320662261489346\n",
      "F1 Score: 0.9438033304514528\n",
      " Max Depth = 14\n",
      "Accuracy: 0.9520576595128544\n",
      "Precision: 0.9554406509010721\n",
      "Recall: 0.9328829163263791\n",
      "F1 Score: 0.9440270473328325\n",
      " Max Depth = 15\n",
      "Accuracy: 0.9516071945686798\n",
      "Precision: 0.9558095238095238\n",
      "Recall: 0.9313980250946619\n",
      "F1 Score: 0.9434458900503873\n",
      " Max Depth = 16\n",
      "Accuracy: 0.9503845040059204\n",
      "Precision: 0.9508580932940198\n",
      "Recall: 0.9337738510654094\n",
      "F1 Score: 0.9422385376086305\n",
      " Max Depth = 17\n",
      "Accuracy: 0.95006274333151\n",
      "Precision: 0.949664176288582\n",
      "Recall: 0.9342935629965105\n",
      "F1 Score: 0.9419161676646707\n",
      " Max Depth = 18\n",
      "Accuracy: 0.9493548698478071\n",
      "Precision: 0.9459398665367024\n",
      "Recall: 0.9366693889672582\n",
      "F1 Score: 0.9412818025815116\n",
      " Max Depth = 19\n",
      "Accuracy: 0.94912963737572\n",
      "Precision: 0.9454436450839329\n",
      "Recall: 0.9366693889672582\n",
      "F1 Score: 0.941036064595532\n",
      " Max Depth = 20\n",
      "Accuracy: 0.9482287074873709\n",
      "Precision: 0.9431325661336123\n",
      "Recall: 0.9370406117751875\n",
      "F1 Score: 0.9400767196752449\n",
      " Max Depth = 21\n",
      "Accuracy: 0.9481321792850478\n",
      "Precision: 0.9436503779091522\n",
      "Recall: 0.9362239215977429\n",
      "F1 Score: 0.939922480620155\n",
      " Max Depth = 22\n",
      "Accuracy: 0.9469416647897294\n",
      "Precision: 0.9397975889269237\n",
      "Recall: 0.9376345682678744\n",
      "F1 Score: 0.9387148325714498\n",
      " Max Depth = 23\n",
      "Accuracy: 0.9462337913060266\n",
      "Precision: 0.9374165801572001\n",
      "Recall: 0.9385997475684906\n",
      "F1 Score: 0.9380077907623817\n",
      " Max Depth = 24\n",
      "Accuracy: 0.9453006853502365\n",
      "Precision: 0.9366975881261596\n",
      "Recall: 0.9371148563367734\n",
      "F1 Score: 0.9369061757719715\n",
      " Max Depth = 25\n",
      "Accuracy: 0.945654622092088\n",
      "Precision: 0.9366844602609727\n",
      "Recall: 0.9380057910758037\n",
      "F1 Score: 0.9373446600140966\n",
      " Max Depth = 26\n",
      "Accuracy: 0.9459763827664983\n",
      "Precision: 0.9372496662216289\n",
      "Recall: 0.9381542801989754\n",
      "F1 Score: 0.9377017550369189\n",
      " Max Depth = 27\n",
      "Accuracy: 0.9448180443386209\n",
      "Precision: 0.9359145527369827\n",
      "Recall: 0.9368178780904298\n",
      "F1 Score: 0.9363659975511113\n",
      " Max Depth = 28\n",
      "Accuracy: 0.9447858682711799\n",
      "Precision: 0.9344274414134693\n",
      "Recall: 0.9384512584453188\n",
      "F1 Score: 0.9364350274114683\n",
      " Max Depth = 29\n",
      "Accuracy: 0.9444962836642106\n",
      "Precision: 0.9341268667750998\n",
      "Recall: 0.9380800356373895\n",
      "F1 Score: 0.9360992776440081\n",
      " Max Depth = 30\n",
      "Accuracy: 0.9459120306316162\n",
      "Precision: 0.9364632701421801\n",
      "Recall: 0.9388967258148341\n",
      "F1 Score: 0.9376784191599007\n",
      " Max Depth = 31\n",
      "Accuracy: 0.9452041571479134\n",
      "Precision: 0.9364243323442136\n",
      "Recall: 0.9371891008983592\n",
      "F1 Score: 0.9368065605402798\n",
      " Max Depth = 32\n",
      "Accuracy: 0.9454293896200007\n",
      "Precision: 0.935746539344141\n",
      "Recall: 0.9385255030069047\n",
      "F1 Score: 0.9371339610052636\n",
      " Max Depth = 33\n",
      "Accuracy: 0.9446249879339748\n",
      "Precision: 0.9351755815676397\n",
      "Recall: 0.9371891008983592\n",
      "F1 Score: 0.9361812585752958\n",
      " Max Depth = 34\n",
      "Accuracy: 0.9451398050130313\n",
      "Precision: 0.9358328393598103\n",
      "Recall: 0.9377088128294603\n",
      "F1 Score: 0.9367698868904135\n",
      " Max Depth = 35\n",
      "Accuracy: 0.9453972135525596\n",
      "Precision: 0.9363232023721275\n",
      "Recall: 0.9377830573910461\n",
      "F1 Score: 0.937052561296784\n",
      " Max Depth = 36\n",
      "Accuracy: 0.9447536922037388\n",
      "Precision: 0.9346796863441338\n",
      "Recall: 0.9380800356373895\n",
      "F1 Score: 0.9363767740022974\n",
      " Max Depth = 37\n",
      "Accuracy: 0.9447858682711799\n",
      "Precision: 0.9351351351351351\n",
      "Recall: 0.9376345682678744\n",
      "F1 Score: 0.9363831838066287\n",
      " Max Depth = 38\n",
      "Accuracy: 0.9451076289455903\n",
      "Precision: 0.9356989406622713\n",
      "Recall: 0.9377830573910461\n",
      "F1 Score: 0.9367398398101453\n",
      " Max Depth = 39\n",
      "Accuracy: 0.9461372631037035\n",
      "Precision: 0.9363669996300407\n",
      "Recall: 0.9395649268691069\n",
      "F1 Score: 0.9379632374740587\n",
      " Max Depth = 40\n",
      "Accuracy: 0.9459442066990572\n",
      "Precision: 0.9376995618920324\n",
      "Recall: 0.9375603237062885\n",
      "F1 Score: 0.9376299376299376\n",
      " Max Depth = 41\n",
      "Accuracy: 0.9449789246758261\n",
      "Precision: 0.9344565137072341\n",
      "Recall: 0.9388967258148341\n",
      "F1 Score: 0.9366713576772091\n",
      " Max Depth = 42\n",
      "Accuracy: 0.9455259178223238\n",
      "Precision: 0.9344105061236535\n",
      "Recall: 0.9403073724849654\n",
      "F1 Score: 0.9373496651000999\n",
      " Max Depth = 43\n",
      "Accuracy: 0.9452363332153544\n",
      "Precision: 0.935137933584794\n",
      "Recall: 0.9387482366916623\n",
      "F1 Score: 0.9369396072619489\n",
      " Max Depth = 44\n",
      "Accuracy: 0.9448502204060619\n",
      "Precision: 0.9348871624121347\n",
      "Recall: 0.9380800356373895\n",
      "F1 Score: 0.9364808775570709\n",
      " Max Depth = 45\n",
      "Accuracy: 0.9448180443386209\n",
      "Precision: 0.9345607808340728\n",
      "Recall: 0.9383770138837331\n",
      "F1 Score: 0.9364650094468936\n",
      " Max Depth = 46\n",
      "Accuracy: 0.9458155024292931\n",
      "Precision: 0.9363845071465601\n",
      "Recall: 0.9387482366916623\n",
      "F1 Score: 0.9375648820999555\n",
      " Max Depth = 47\n",
      "Accuracy: 0.9460729109688214\n",
      "Precision: 0.9366807376138636\n",
      "Recall: 0.9390452149380057\n",
      "F1 Score: 0.9378614859854664\n",
      " Max Depth = 48\n",
      "Accuracy: 0.9452363332153544\n",
      "Precision: 0.9364290482901861\n",
      "Recall: 0.937263345459945\n",
      "F1 Score: 0.9368460111317254\n",
      " Max Depth = 49\n",
      "Accuracy: 0.9453650374851186\n",
      "Precision: 0.9365774052370002\n",
      "Recall: 0.9374118345831168\n",
      "F1 Score: 0.9369944341372913\n"
     ]
    }
   ],
   "source": [
    "for i in range (2, 50):\n",
    "    tree_classifier = DecisionTreeClassifier(max_depth=i)\n",
    "\n",
    "    # fit\n",
    "    tree_classifier.fit(X_train, y_train)\n",
    "    # predict\n",
    "    yhat_val = tree_classifier.predict(X_val)\n",
    "\n",
    "    f1 = f1_score( y_val, yhat_val )\n",
    "    accuracy = accuracy_score(y_val, yhat_val)\n",
    "    precision = precision_score(y_val, yhat_val)\n",
    "    recall = recall_score(y_val, yhat_val)\n",
    "\n",
    "    print(\" Max Depth = {}\".format(i))\n",
    "    print( \"Accuracy: {}\".format( accuracy ) )\n",
    "    print( \"Precision: {}\".format( precision ) )\n",
    "    print( \"Recall: {}\".format( recall ) )\n",
    "    print( \"F1 Score: {}\".format( f1 ) )\n",
    "\n",
    "    f1_list.append(f1)\n",
    "    acuracy_list.append(accuracy)\n",
    "    precision_list.append(precision)\n",
    "    recall_list.append(recall)"
   ]
  },
  {
   "cell_type": "markdown",
   "metadata": {},
   "source": [
    "### Test"
   ]
  },
  {
   "cell_type": "code",
   "execution_count": 10,
   "metadata": {},
   "outputs": [
    {
     "name": "stdout",
     "output_type": "stream",
     "text": [
      "Accuracy: 0.9463947785115668\n",
      "Precision: 0.9368596199316928\n",
      "Recall: 0.941311042674879\n",
      "F1 Score: 0.9390800561797753\n"
     ]
    },
    {
     "name": "stderr",
     "output_type": "stream",
     "text": [
      "c:\\Users\\bruni\\AppData\\Local\\Programs\\Python\\Python312\\Lib\\site-packages\\sklearn\\base.py:486: UserWarning: X has feature names, but DecisionTreeClassifier was fitted without feature names\n",
      "  warnings.warn(\n"
     ]
    }
   ],
   "source": [
    "best_max_depth = 49 \n",
    "\n",
    "tree_classifier = DecisionTreeClassifier(max_depth=best_max_depth)\n",
    "\n",
    "tree_classifier.fit(X, y)\n",
    "\n",
    "yhat_test = tree_classifier.predict(X_test)\n",
    "\n",
    "f1 = f1_score( y_test, yhat_test )\n",
    "accuracy = accuracy_score(y_test, yhat_test)\n",
    "precision = precision_score(y_test, yhat_test)\n",
    "recall = recall_score(y_test, yhat_test)\n",
    "\n",
    "print( \"Accuracy: {}\".format( accuracy ) )\n",
    "print( \"Precision: {}\".format( precision ) )\n",
    "print( \"Recall: {}\".format( recall ) )\n",
    "print( \"F1 Score: {}\".format( f1 ) )"
   ]
  },
  {
   "cell_type": "markdown",
   "metadata": {},
   "source": [
    "# Random Forest \n"
   ]
  },
  {
   "cell_type": "markdown",
   "metadata": {},
   "source": [
    "## Train"
   ]
  },
  {
   "cell_type": "code",
   "execution_count": null,
   "metadata": {},
   "outputs": [],
   "source": [
    "for i in range (3, 50):\n",
    "    rd_classifier = RandomForestClassifier(max_depth=i)\n",
    "\n",
    "    rd_classifier.fit(X_train, y_train)\n",
    "\n",
    "    yhat_train = rd_classifier.predict(X_train)\n",
    "\n",
    "    f1 = f1_score( y_train, yhat_train )\n",
    "    accuracy = accuracy_score(y_train, yhat_train)\n",
    "    precision = precision_score(y_train, yhat_train)\n",
    "    recall = recall_score(y_train, yhat_train)\n",
    "\n",
    "    print(\" Max Depth = {}\".format(i))\n",
    "    print( \"Accuracy: {}\".format( accuracy ) )\n",
    "    print( \"Precision: {}\".format( precision ) )\n",
    "    print( \"Recall: {}\".format( recall ) )\n",
    "    print( \"F1 Score: {}\".format( f1 ) )"
   ]
  },
  {
   "cell_type": "markdown",
   "metadata": {},
   "source": [
    "## Validation"
   ]
  },
  {
   "cell_type": "code",
   "execution_count": null,
   "metadata": {},
   "outputs": [],
   "source": [
    "for i in range (10, 50):\n",
    "    rd_classifier = RandomForestClassifier(max_depth=i)\n",
    "\n",
    "    rd_classifier.fit(X_train, y_train)\n",
    "\n",
    "    yhat_val = rd_classifier.predict(X_val)\n",
    "\n",
    "    f1 = f1_score( y_val, yhat_val )\n",
    "    accuracy = accuracy_score(y_val, yhat_val)\n",
    "    precision = precision_score(y_val, yhat_val)\n",
    "    recall = recall_score(y_val, yhat_val)\n",
    "\n",
    "    print(\" Max Depth = {}\".format(i))\n",
    "    print( \"Accuracy: {}\".format( accuracy ) )\n",
    "    print( \"Precision: {}\".format( precision ) )\n",
    "    print( \"Recall: {}\".format( recall ) )\n",
    "    print( \"F1 Score: {}\".format( f1 ) )"
   ]
  },
  {
   "cell_type": "markdown",
   "metadata": {},
   "source": [
    "## Test"
   ]
  },
  {
   "cell_type": "code",
   "execution_count": 40,
   "metadata": {},
   "outputs": [
    {
     "name": "stderr",
     "output_type": "stream",
     "text": [
      "c:\\Users\\bruni\\AppData\\Local\\Programs\\Python\\Python312\\Lib\\site-packages\\sklearn\\base.py:1474: DataConversionWarning: A column-vector y was passed when a 1d array was expected. Please change the shape of y to (n_samples,), for example using ravel().\n",
      "  return fit_method(estimator, *args, **kwargs)\n",
      "c:\\Users\\bruni\\AppData\\Local\\Programs\\Python\\Python312\\Lib\\site-packages\\sklearn\\base.py:486: UserWarning: X has feature names, but RandomForestClassifier was fitted without feature names\n",
      "  warnings.warn(\n"
     ]
    },
    {
     "name": "stdout",
     "output_type": "stream",
     "text": [
      "Accuracy: 0.965009848221527\n",
      "Precision: 0.9738153483736522\n",
      "Recall: 0.9457105147382314\n",
      "F1 Score: 0.9595571823944291\n"
     ]
    }
   ],
   "source": [
    "best_max_depth = 23\n",
    "\n",
    "rd_classifier = RandomForestClassifier(max_depth=best_max_depth)\n",
    "\n",
    "rd_classifier.fit(X, y)\n",
    "\n",
    "yhat_test = rd_classifier.predict(X_test)\n",
    "\n",
    "f1 = f1_score( y_test, yhat_test )\n",
    "accuracy = accuracy_score(y_test, yhat_test)\n",
    "precision = precision_score(y_test, yhat_test)\n",
    "recall = recall_score(y_test, yhat_test)\n",
    "\n",
    "print( \"Accuracy: {}\".format( accuracy ) )\n",
    "print( \"Precision: {}\".format( precision ) )\n",
    "print( \"Recall: {}\".format( recall ) )\n",
    "print( \"F1 Score: {}\".format( f1 ) )"
   ]
  },
  {
   "cell_type": "markdown",
   "metadata": {},
   "source": [
    "# Logistic Regression\n"
   ]
  },
  {
   "cell_type": "code",
   "execution_count": 7,
   "metadata": {},
   "outputs": [
    {
     "name": "stderr",
     "output_type": "stream",
     "text": [
      "c:\\Users\\bruni\\AppData\\Local\\Programs\\Python\\Python312\\Lib\\site-packages\\sklearn\\utils\\validation.py:1300: DataConversionWarning: A column-vector y was passed when a 1d array was expected. Please change the shape of y to (n_samples, ), for example using ravel().\n",
      "  y = column_or_1d(y, warn=True)\n"
     ]
    },
    {
     "name": "stdout",
     "output_type": "stream",
     "text": [
      "Accuracy: 0.8726056677928704\n",
      "Precision: 0.8609538681761988\n",
      "Recall: 0.8420516736667939\n",
      "F1 Score: 0.8513978702184474\n"
     ]
    },
    {
     "name": "stderr",
     "output_type": "stream",
     "text": [
      "c:\\Users\\bruni\\AppData\\Local\\Programs\\Python\\Python312\\Lib\\site-packages\\sklearn\\linear_model\\_logistic.py:469: ConvergenceWarning: lbfgs failed to converge (status=1):\n",
      "STOP: TOTAL NO. of ITERATIONS REACHED LIMIT.\n",
      "\n",
      "Increase the number of iterations (max_iter) or scale the data as shown in:\n",
      "    https://scikit-learn.org/stable/modules/preprocessing.html\n",
      "Please also refer to the documentation for alternative solver options:\n",
      "    https://scikit-learn.org/stable/modules/linear_model.html#logistic-regression\n",
      "  n_iter_i = _check_optimize_result(\n"
     ]
    }
   ],
   "source": [
    "model = LogisticRegression()\n",
    "\n",
    "model.fit(X_train, y_train)\n",
    "\n",
    "yhat = model.predict(X_train)\n",
    "\n",
    "f1 = f1_score( y_train, yhat )\n",
    "accuracy = accuracy_score(y_train, yhat)\n",
    "precision = precision_score(y_train, yhat)\n",
    "recall = recall_score(y_train, yhat)\n",
    "\n",
    "print( \"Accuracy: {}\".format( accuracy ) )\n",
    "print( \"Precision: {}\".format( precision ) )\n",
    "print( \"Recall: {}\".format( recall ) )\n",
    "print( \"F1 Score: {}\".format( f1 ) )"
   ]
  },
  {
   "cell_type": "code",
   "execution_count": 8,
   "metadata": {},
   "outputs": [
    {
     "name": "stderr",
     "output_type": "stream",
     "text": [
      "c:\\Users\\bruni\\AppData\\Local\\Programs\\Python\\Python312\\Lib\\site-packages\\sklearn\\utils\\validation.py:1300: DataConversionWarning: A column-vector y was passed when a 1d array was expected. Please change the shape of y to (n_samples, ), for example using ravel().\n",
      "  y = column_or_1d(y, warn=True)\n"
     ]
    },
    {
     "name": "stdout",
     "output_type": "stream",
     "text": [
      "Accuracy: 0.869976511470768\n",
      "Precision: 0.8597923981071592\n",
      "Recall: 0.8363649862647561\n",
      "F1 Score: 0.8479169018855143\n"
     ]
    },
    {
     "name": "stderr",
     "output_type": "stream",
     "text": [
      "c:\\Users\\bruni\\AppData\\Local\\Programs\\Python\\Python312\\Lib\\site-packages\\sklearn\\linear_model\\_logistic.py:469: ConvergenceWarning: lbfgs failed to converge (status=1):\n",
      "STOP: TOTAL NO. of ITERATIONS REACHED LIMIT.\n",
      "\n",
      "Increase the number of iterations (max_iter) or scale the data as shown in:\n",
      "    https://scikit-learn.org/stable/modules/preprocessing.html\n",
      "Please also refer to the documentation for alternative solver options:\n",
      "    https://scikit-learn.org/stable/modules/linear_model.html#logistic-regression\n",
      "  n_iter_i = _check_optimize_result(\n"
     ]
    }
   ],
   "source": [
    "model = LogisticRegression()\n",
    "\n",
    "model.fit(X_train, y_train)\n",
    "\n",
    "yhat = model.predict(X_val)\n",
    "\n",
    "f1 = f1_score( y_val, yhat )\n",
    "accuracy = accuracy_score(y_val, yhat)\n",
    "precision = precision_score(y_val, yhat)\n",
    "recall = recall_score(y_val, yhat)\n",
    "\n",
    "print( \"Accuracy: {}\".format( accuracy ) )\n",
    "print( \"Precision: {}\".format( precision ) )\n",
    "print( \"Recall: {}\".format( recall ) )\n",
    "print( \"F1 Score: {}\".format( f1 ) )"
   ]
  },
  {
   "cell_type": "code",
   "execution_count": 9,
   "metadata": {},
   "outputs": [
    {
     "name": "stderr",
     "output_type": "stream",
     "text": [
      "c:\\Users\\bruni\\AppData\\Local\\Programs\\Python\\Python312\\Lib\\site-packages\\sklearn\\utils\\validation.py:1300: DataConversionWarning: A column-vector y was passed when a 1d array was expected. Please change the shape of y to (n_samples, ), for example using ravel().\n",
      "  y = column_or_1d(y, warn=True)\n"
     ]
    },
    {
     "name": "stdout",
     "output_type": "stream",
     "text": [
      "Accuracy: 0.8687676205924381\n",
      "Precision: 0.8598139282810947\n",
      "Recall: 0.8375714914210295\n",
      "F1 Score: 0.8485469780709574\n"
     ]
    },
    {
     "name": "stderr",
     "output_type": "stream",
     "text": [
      "c:\\Users\\bruni\\AppData\\Local\\Programs\\Python\\Python312\\Lib\\site-packages\\sklearn\\linear_model\\_logistic.py:469: ConvergenceWarning: lbfgs failed to converge (status=1):\n",
      "STOP: TOTAL NO. of ITERATIONS REACHED LIMIT.\n",
      "\n",
      "Increase the number of iterations (max_iter) or scale the data as shown in:\n",
      "    https://scikit-learn.org/stable/modules/preprocessing.html\n",
      "Please also refer to the documentation for alternative solver options:\n",
      "    https://scikit-learn.org/stable/modules/linear_model.html#logistic-regression\n",
      "  n_iter_i = _check_optimize_result(\n"
     ]
    }
   ],
   "source": [
    "model = LogisticRegression()\n",
    "\n",
    "model.fit(X_train, y_train)\n",
    "\n",
    "yhat = model.predict(X_test)\n",
    "\n",
    "f1 = f1_score( y_test, yhat )\n",
    "accuracy = accuracy_score(y_test, yhat)\n",
    "precision = precision_score(y_test, yhat)\n",
    "recall = recall_score(y_test, yhat)\n",
    "\n",
    "print( \"Accuracy: {}\".format( accuracy ) )\n",
    "print( \"Precision: {}\".format( precision ) )\n",
    "print( \"Recall: {}\".format( recall ) )\n",
    "print( \"F1 Score: {}\".format( f1 ) )"
   ]
  }
 ],
 "metadata": {
  "kernelspec": {
   "display_name": "Python 3",
   "language": "python",
   "name": "python3"
  },
  "language_info": {
   "codemirror_mode": {
    "name": "ipython",
    "version": 3
   },
   "file_extension": ".py",
   "mimetype": "text/x-python",
   "name": "python",
   "nbconvert_exporter": "python",
   "pygments_lexer": "ipython3",
   "version": "3.12.2"
  }
 },
 "nbformat": 4,
 "nbformat_minor": 2
}
