{
 "cells": [
  {
   "cell_type": "markdown",
   "metadata": {},
   "source": [
    "## Regression"
   ]
  },
  {
   "cell_type": "markdown",
   "metadata": {},
   "source": [
    "Algorithms: Linear Regression, Decision Tree Regressor, Random Forest Regressor, Polynomial\n",
    "Regression, Linear Regression Lasso, Linear Regression Ridge, Linear Regression Elastic Net,\n",
    "Polynomial Regression Lasso, Polynomial Regression Ridge and Polynomial Regression Elastic Net\n",
    "\n",
    "\n",
    "Performance metrics: R2, MSE, RMSE, MAE and MAPE"
   ]
  },
  {
   "cell_type": "markdown",
   "metadata": {},
   "source": [
    "### Imports"
   ]
  },
  {
   "cell_type": "code",
   "execution_count": 1,
   "metadata": {},
   "outputs": [],
   "source": [
    "import pandas as pd\n",
    "import numpy as np\n",
    "from sklearn.linear_model import LinearRegression\n",
    "from sklearn import metrics as mt\n",
    "from sklearn import model_selection as ms\n",
    "from sklearn import tree as tr\n",
    "from matplotlib import pyplot as plt\n",
    "from sklearn.ensemble import RandomForestRegressor\n",
    "from sklearn import linear_model as lm\n",
    "from sklearn import preprocessing as pp\n",
    "\n"
   ]
  },
  {
   "cell_type": "markdown",
   "metadata": {},
   "source": [
    "### Load Data"
   ]
  },
  {
   "cell_type": "code",
   "execution_count": 3,
   "metadata": {},
   "outputs": [],
   "source": [
    "X_train = pd.read_csv('../data/X_training_regression.csv')\n",
    "X_test = pd.read_csv('../data/X_test_regression.csv')\n",
    "X_val = pd.read_csv('../data/X_validation_regression.csv')\n",
    "\n",
    "y_train  = pd.read_csv('../data/y_training_regression.csv')\n",
    "y_test = pd.read_csv('../data/y_test_regression.csv')\n",
    "y_val = pd.read_csv('../data/y_val_regression.csv')\n",
    "\n",
    "# Concatenating train and validation data\n",
    "X = np.concatenate((X_train, X_val), axis=0)\n",
    "y = np.concatenate((y_train, y_val), axis=0)"
   ]
  },
  {
   "cell_type": "markdown",
   "metadata": {},
   "source": [
    "### Preparing Data \n"
   ]
  },
  {
   "cell_type": "code",
   "execution_count": 4,
   "metadata": {},
   "outputs": [],
   "source": [
    "# Those lists will be used to create a DataFrame with all metrics\n",
    "r2_train =[]\n",
    "mse_train = []\n",
    "rmse_train = []\n",
    "mae_train = []\n",
    "mape_train = []\n",
    "\n",
    "r2_val =[]\n",
    "mse_val = []\n",
    "rmse_val = []\n",
    "mae_val = []\n",
    "mape_val = []\n",
    "\n",
    "r2_test =[]\n",
    "mse_test = []\n",
    "rmse_test = []\n",
    "mae_test = []\n",
    "mape_test = []"
   ]
  },
  {
   "cell_type": "code",
   "execution_count": 5,
   "metadata": {},
   "outputs": [],
   "source": [
    "def evaluate_model(yreal, yhat, r2_list, mse_list, rmse_list, mae_list, mape_list):\n",
    "    r2 = mt.r2_score(yreal, yhat).round(2)\n",
    "    mse = mt.mean_squared_error(yreal, yhat).round(2)\n",
    "    rmse = np.sqrt(mse)\n",
    "    mae = mt.mean_absolute_error(yreal, yhat).round(2)\n",
    "    mape = mt.mean_absolute_percentage_error(yreal, yhat).round(2) * 100\n",
    "\n",
    "    r2_list.append(r2)\n",
    "    mse_list.append(mse)\n",
    "    rmse_list.append(rmse)\n",
    "    mae_list.append(mae)\n",
    "    mape_list.append(mape)\n",
    "\n",
    "    print(\"R2: {}\".format(r2))\n",
    "    print(\"MSE: {}\".format(mse))\n",
    "    print(\"RMSE: {}\".format(rmse))\n",
    "    print(\"MAE: {}\".format(mae))\n",
    "    print(\"MAPE: {}\".format(mape))"
   ]
  },
  {
   "cell_type": "markdown",
   "metadata": {},
   "source": [
    "# Linear Regression"
   ]
  },
  {
   "cell_type": "markdown",
   "metadata": {},
   "source": [
    "## Train "
   ]
  },
  {
   "cell_type": "code",
   "execution_count": 6,
   "metadata": {},
   "outputs": [
    {
     "name": "stdout",
     "output_type": "stream",
     "text": [
      "R2: 0.05\n",
      "MSE: 456.0\n",
      "RMSE: 21.354156504062622\n",
      "MAE: 17.0\n",
      "MAPE: 865.0\n"
     ]
    }
   ],
   "source": [
    "modelo = LinearRegression()\n",
    "modelo.fit(X_train, y_train)\n",
    "yhat = modelo.predict(X_train)\n",
    "\n",
    "evaluate_model(y_train, yhat, r2_train, mse_train, rmse_train, mae_train, mape_train)\n"
   ]
  },
  {
   "cell_type": "markdown",
   "metadata": {},
   "source": [
    "## Validation"
   ]
  },
  {
   "cell_type": "code",
   "execution_count": 7,
   "metadata": {},
   "outputs": [
    {
     "name": "stdout",
     "output_type": "stream",
     "text": [
      "R2: 0.04\n",
      "MSE: 458.45\n",
      "RMSE: 21.411445537375563\n",
      "MAE: 17.04\n",
      "MAPE: 868.0\n"
     ]
    }
   ],
   "source": [
    "modelo = LinearRegression()\n",
    "modelo.fit(X_train, y_train)\n",
    "yhat = modelo.predict(X_val)\n",
    "\n",
    "evaluate_model(y_val, yhat, r2_val, mse_val, rmse_val, mae_val, mape_val)\n",
    "\n"
   ]
  },
  {
   "cell_type": "markdown",
   "metadata": {},
   "source": [
    "## Test"
   ]
  },
  {
   "cell_type": "code",
   "execution_count": 11,
   "metadata": {},
   "outputs": [
    {
     "name": "stdout",
     "output_type": "stream",
     "text": [
      "R2: 0.05\n",
      "MSE: 461.99\n",
      "RMSE: 21.49395263789329\n",
      "MAE: 17.14\n",
      "MAPE: 852.9999999999999\n"
     ]
    },
    {
     "name": "stderr",
     "output_type": "stream",
     "text": [
      "c:\\Users\\bruni\\AppData\\Local\\Programs\\Python\\Python312\\Lib\\site-packages\\sklearn\\base.py:486: UserWarning: X has feature names, but LinearRegression was fitted without feature names\n",
      "  warnings.warn(\n"
     ]
    }
   ],
   "source": [
    "modelo = LinearRegression()\n",
    "modelo.fit(X, y)\n",
    "yhat = modelo.predict(X_test)\n",
    "\n",
    "evaluate_model(y_test, yhat, r2_test, mse_test, rmse_test, mae_test, mape_test)\n"
   ]
  },
  {
   "cell_type": "markdown",
   "metadata": {},
   "source": [
    "# Decision Tree Regressor "
   ]
  },
  {
   "cell_type": "markdown",
   "metadata": {},
   "source": [
    "## Train"
   ]
  },
  {
   "cell_type": "code",
   "execution_count": 41,
   "metadata": {},
   "outputs": [
    {
     "name": "stdout",
     "output_type": "stream",
     "text": [
      "R2: 0.99\n",
      "MSE: 3.94\n",
      "RMSE: 1.9849433241279208\n",
      "MAE: 0.21\n",
      "MAPE: 8.0\n"
     ]
    }
   ],
   "source": [
    "tree_reg = tr.DecisionTreeRegressor()\n",
    "tree_reg.fit(X_train, y_train)\n",
    "\n",
    "yhat = tree_reg.predict(X_train)\n",
    "evaluate_model(y_train, yhat, r2_train, mse_train, rmse_train, mae_train, mape_train)"
   ]
  },
  {
   "cell_type": "markdown",
   "metadata": {},
   "source": [
    "## Validation\n"
   ]
  },
  {
   "cell_type": "code",
   "execution_count": 13,
   "metadata": {},
   "outputs": [],
   "source": [
    "r2_tree_list = []\n",
    "mse_tree_list= []\n",
    "rmse_tree_list= []\n",
    "mae_tree_list= []\n",
    "mape_tree_list= []\n",
    "\n",
    "for i in range (3, 31, 1):\n",
    "    tree_reg = tr.DecisionTreeRegressor(max_depth= i)\n",
    "    tree_reg.fit(X_train, y_train)\n",
    "    # Realizando a predição com os dados de teste\n",
    "    yhat = tree_reg.predict(X_val)\n",
    "\n",
    "    r2 = mt.r2_score(y_val, yhat).round(2)\n",
    "    mse = mt.mean_squared_error(y_val, yhat).round(2)\n",
    "    rmse = np.sqrt(mse)\n",
    "    mae = mt.mean_absolute_error(y_val, yhat).round(2)\n",
    "    mape = mt.mean_absolute_percentage_error(y_val, yhat).round(2)\n",
    "\n",
    "    r2_tree_list.append(r2)\n",
    "    mse_tree_list.append(mse)\n",
    "    rmse_tree_list.append(rmse)\n",
    "    mae_tree_list.append(mae)\n",
    "    mape_tree_list.append(mape)\n"
   ]
  },
  {
   "cell_type": "code",
   "execution_count": 24,
   "metadata": {},
   "outputs": [
    {
     "data": {
      "image/png": "[encoded data removed]",
      "text/plain": [
       "<Figure size 640x480 with 1 Axes>"
      ]
     },
     "metadata": {},
     "output_type": "display_data"
    }
   ],
   "source": [
    "# Plot the results\n",
    "i = range(len(r2_tree_list))\n",
    "\n",
    "plt.plot(i, r2_tree_list, marker='o', linestyle='-', label='R2')\n",
    "#plt.plot(i, mse_tree_list, marker='o', linestyle='-', label='MSE')\n",
    "plt.plot(i, rmse_tree_list, marker='o', linestyle='-', label='RMSE')\n",
    "plt.plot(i, mae_tree_list, marker='o', linestyle='-', label='MAE')\n",
    "plt.plot(i, mape_tree_list, marker='o', linestyle='-', label='MAPE')\n",
    "\n",
    "plt.xlabel('Valor de max_depth')\n",
    "plt.ylabel('Performance')\n",
    "plt.legend()\n",
    "plt.grid(True)\n",
    "plt.show()"
   ]
  },
  {
   "cell_type": "code",
   "execution_count": 35,
   "metadata": {},
   "outputs": [
    {
     "name": "stdout",
     "output_type": "stream",
     "text": [
      "R2: 0.05\n",
      "MSE: 451.34\n",
      "RMSE: 21.24476406082214\n",
      "MAE: 16.9\n",
      "MAPE: 847.0000000000001\n"
     ]
    }
   ],
   "source": [
    "best_max_depth = 3\n",
    "\n",
    "tree_reg = tr.DecisionTreeRegressor(max_depth= best_max_depth)\n",
    "tree_reg.fit(X_train, y_train)\n",
    "yhat = tree_reg.predict(X_val)\n",
    "\n",
    "evaluate_model(y_val, yhat, r2_val, mse_val, rmse_val, mae_val, mape_val)"
   ]
  },
  {
   "cell_type": "markdown",
   "metadata": {},
   "source": [
    "## Test"
   ]
  },
  {
   "cell_type": "code",
   "execution_count": 40,
   "metadata": {},
   "outputs": [
    {
     "name": "stdout",
     "output_type": "stream",
     "text": [
      "R2: 0.06\n",
      "MSE: 459.9\n",
      "RMSE: 21.44527920079382\n",
      "MAE: 17.11\n",
      "MAPE: 817.0\n"
     ]
    },
    {
     "name": "stderr",
     "output_type": "stream",
     "text": [
      "c:\\Users\\bruni\\AppData\\Local\\Programs\\Python\\Python312\\Lib\\site-packages\\sklearn\\base.py:486: UserWarning: X has feature names, but DecisionTreeRegressor was fitted without feature names\n",
      "  warnings.warn(\n"
     ]
    }
   ],
   "source": [
    "tree_reg = tr.DecisionTreeRegressor(max_depth=best_max_depth)\n",
    "tree_reg.fit(X, y)\n",
    "y_pred = tree_reg.predict(X_test)\n",
    "\n",
    "evaluate_model(y_test, y_pred, r2_test, mse_test, rmse_test, mae_test, mape_test)\n"
   ]
  },
  {
   "cell_type": "markdown",
   "metadata": {},
   "source": [
    "# Random Forest Regression"
   ]
  },
  {
   "cell_type": "markdown",
   "metadata": {},
   "source": [
    "## Train"
   ]
  },
  {
   "cell_type": "code",
   "execution_count": null,
   "metadata": {},
   "outputs": [],
   "source": [
    "for i in range (3, 31, 1):\n",
    "    rf_reg = RandomForestRegressor(max_depth=i)\n",
    "    rf_reg.fit(X_train, y_train)\n",
    "\n",
    "    y_pred = rf_reg.predict(X_train)\n",
    "\n",
    "    r2 = mt.r2_score(y_train, y_pred).round(2)\n",
    "    mse = mt.mean_squared_error(y_train, y_pred).round(2)\n",
    "    rmse = np.sqrt(mse)\n",
    "    mae = mt.mean_absolute_error(y_train, y_pred).round(2)\n",
    "    mape = mt.mean_absolute_percentage_error(y_train, y_pred).round(2)\n",
    "\n",
    "    print(\"Max depth: {}\".format(i))\n",
    "    print(\"R2: {}\".format(r2))\n",
    "    print(\"MSE: {}\".format(mse))\n",
    "    print(\"RMSE: {}\".format(rmse))\n",
    "    print(\"MAE: {}\".format(mae))\n",
    "    print(\"MAPE: {}\\n\".format(mape))"
   ]
  },
  {
   "cell_type": "markdown",
   "metadata": {},
   "source": [
    "## Validation"
   ]
  },
  {
   "cell_type": "code",
   "execution_count": 27,
   "metadata": {},
   "outputs": [
    {
     "name": "stderr",
     "output_type": "stream",
     "text": [
      "c:\\Users\\bruni\\AppData\\Local\\Programs\\Python\\Python312\\Lib\\site-packages\\sklearn\\base.py:1474: DataConversionWarning: A column-vector y was passed when a 1d array was expected. Please change the shape of y to (n_samples,), for example using ravel().\n",
      "  return fit_method(estimator, *args, **kwargs)\n"
     ]
    },
    {
     "name": "stdout",
     "output_type": "stream",
     "text": [
      "Max depth: 10\n",
      "R2: 0.21\n",
      "MSE: 378.43\n",
      "RMSE: 19.453277358841106\n",
      "MAE: 15.34\n",
      "MAPE: 7.85\n",
      "\n"
     ]
    },
    {
     "name": "stderr",
     "output_type": "stream",
     "text": [
      "c:\\Users\\bruni\\AppData\\Local\\Programs\\Python\\Python312\\Lib\\site-packages\\sklearn\\base.py:1474: DataConversionWarning: A column-vector y was passed when a 1d array was expected. Please change the shape of y to (n_samples,), for example using ravel().\n",
      "  return fit_method(estimator, *args, **kwargs)\n"
     ]
    },
    {
     "name": "stdout",
     "output_type": "stream",
     "text": [
      "Max depth: 11\n",
      "R2: 0.23\n",
      "MSE: 365.55\n",
      "RMSE: 19.11936191403887\n",
      "MAE: 15.01\n",
      "MAPE: 7.73\n",
      "\n"
     ]
    },
    {
     "name": "stderr",
     "output_type": "stream",
     "text": [
      "c:\\Users\\bruni\\AppData\\Local\\Programs\\Python\\Python312\\Lib\\site-packages\\sklearn\\base.py:1474: DataConversionWarning: A column-vector y was passed when a 1d array was expected. Please change the shape of y to (n_samples,), for example using ravel().\n",
      "  return fit_method(estimator, *args, **kwargs)\n"
     ]
    },
    {
     "name": "stdout",
     "output_type": "stream",
     "text": [
      "Max depth: 12\n",
      "R2: 0.26\n",
      "MSE: 353.74\n",
      "RMSE: 18.807977031036593\n",
      "MAE: 14.71\n",
      "MAPE: 7.64\n",
      "\n"
     ]
    },
    {
     "name": "stderr",
     "output_type": "stream",
     "text": [
      "c:\\Users\\bruni\\AppData\\Local\\Programs\\Python\\Python312\\Lib\\site-packages\\sklearn\\base.py:1474: DataConversionWarning: A column-vector y was passed when a 1d array was expected. Please change the shape of y to (n_samples,), for example using ravel().\n",
      "  return fit_method(estimator, *args, **kwargs)\n"
     ]
    },
    {
     "name": "stdout",
     "output_type": "stream",
     "text": [
      "Max depth: 13\n",
      "R2: 0.28\n",
      "MSE: 345.33\n",
      "RMSE: 18.583056799138294\n",
      "MAE: 14.4\n",
      "MAPE: 7.54\n",
      "\n"
     ]
    },
    {
     "name": "stderr",
     "output_type": "stream",
     "text": [
      "c:\\Users\\bruni\\AppData\\Local\\Programs\\Python\\Python312\\Lib\\site-packages\\sklearn\\base.py:1474: DataConversionWarning: A column-vector y was passed when a 1d array was expected. Please change the shape of y to (n_samples,), for example using ravel().\n",
      "  return fit_method(estimator, *args, **kwargs)\n"
     ]
    },
    {
     "name": "stdout",
     "output_type": "stream",
     "text": [
      "Max depth: 14\n",
      "R2: 0.29\n",
      "MSE: 338.56\n",
      "RMSE: 18.4\n",
      "MAE: 14.15\n",
      "MAPE: 7.43\n",
      "\n"
     ]
    },
    {
     "name": "stderr",
     "output_type": "stream",
     "text": [
      "c:\\Users\\bruni\\AppData\\Local\\Programs\\Python\\Python312\\Lib\\site-packages\\sklearn\\base.py:1474: DataConversionWarning: A column-vector y was passed when a 1d array was expected. Please change the shape of y to (n_samples,), for example using ravel().\n",
      "  return fit_method(estimator, *args, **kwargs)\n"
     ]
    },
    {
     "name": "stdout",
     "output_type": "stream",
     "text": [
      "Max depth: 15\n",
      "R2: 0.31\n",
      "MSE: 331.01\n",
      "RMSE: 18.193680221439532\n",
      "MAE: 13.88\n",
      "MAPE: 7.31\n",
      "\n"
     ]
    },
    {
     "name": "stderr",
     "output_type": "stream",
     "text": [
      "c:\\Users\\bruni\\AppData\\Local\\Programs\\Python\\Python312\\Lib\\site-packages\\sklearn\\base.py:1474: DataConversionWarning: A column-vector y was passed when a 1d array was expected. Please change the shape of y to (n_samples,), for example using ravel().\n",
      "  return fit_method(estimator, *args, **kwargs)\n"
     ]
    },
    {
     "name": "stdout",
     "output_type": "stream",
     "text": [
      "Max depth: 16\n",
      "R2: 0.32\n",
      "MSE: 326.63\n",
      "RMSE: 18.07290790105455\n",
      "MAE: 13.65\n",
      "MAPE: 7.23\n",
      "\n"
     ]
    },
    {
     "name": "stderr",
     "output_type": "stream",
     "text": [
      "c:\\Users\\bruni\\AppData\\Local\\Programs\\Python\\Python312\\Lib\\site-packages\\sklearn\\base.py:1474: DataConversionWarning: A column-vector y was passed when a 1d array was expected. Please change the shape of y to (n_samples,), for example using ravel().\n",
      "  return fit_method(estimator, *args, **kwargs)\n"
     ]
    },
    {
     "name": "stdout",
     "output_type": "stream",
     "text": [
      "Max depth: 17\n",
      "R2: 0.32\n",
      "MSE: 323.92\n",
      "RMSE: 17.99777764058663\n",
      "MAE: 13.5\n",
      "MAPE: 7.19\n",
      "\n"
     ]
    },
    {
     "name": "stderr",
     "output_type": "stream",
     "text": [
      "c:\\Users\\bruni\\AppData\\Local\\Programs\\Python\\Python312\\Lib\\site-packages\\sklearn\\base.py:1474: DataConversionWarning: A column-vector y was passed when a 1d array was expected. Please change the shape of y to (n_samples,), for example using ravel().\n",
      "  return fit_method(estimator, *args, **kwargs)\n"
     ]
    },
    {
     "name": "stdout",
     "output_type": "stream",
     "text": [
      "Max depth: 18\n",
      "R2: 0.33\n",
      "MSE: 321.45\n",
      "RMSE: 17.929026744360666\n",
      "MAE: 13.37\n",
      "MAPE: 7.11\n",
      "\n"
     ]
    },
    {
     "name": "stderr",
     "output_type": "stream",
     "text": [
      "c:\\Users\\bruni\\AppData\\Local\\Programs\\Python\\Python312\\Lib\\site-packages\\sklearn\\base.py:1474: DataConversionWarning: A column-vector y was passed when a 1d array was expected. Please change the shape of y to (n_samples,), for example using ravel().\n",
      "  return fit_method(estimator, *args, **kwargs)\n"
     ]
    },
    {
     "name": "stdout",
     "output_type": "stream",
     "text": [
      "Max depth: 19\n",
      "R2: 0.33\n",
      "MSE: 321.55\n",
      "RMSE: 17.93181530130176\n",
      "MAE: 13.28\n",
      "MAPE: 7.13\n",
      "\n"
     ]
    },
    {
     "name": "stderr",
     "output_type": "stream",
     "text": [
      "c:\\Users\\bruni\\AppData\\Local\\Programs\\Python\\Python312\\Lib\\site-packages\\sklearn\\base.py:1474: DataConversionWarning: A column-vector y was passed when a 1d array was expected. Please change the shape of y to (n_samples,), for example using ravel().\n",
      "  return fit_method(estimator, *args, **kwargs)\n"
     ]
    },
    {
     "name": "stdout",
     "output_type": "stream",
     "text": [
      "Max depth: 20\n",
      "R2: 0.33\n",
      "MSE: 318.79\n",
      "RMSE: 17.85469126028227\n",
      "MAE: 13.15\n",
      "MAPE: 7.08\n",
      "\n"
     ]
    },
    {
     "name": "stderr",
     "output_type": "stream",
     "text": [
      "c:\\Users\\bruni\\AppData\\Local\\Programs\\Python\\Python312\\Lib\\site-packages\\sklearn\\base.py:1474: DataConversionWarning: A column-vector y was passed when a 1d array was expected. Please change the shape of y to (n_samples,), for example using ravel().\n",
      "  return fit_method(estimator, *args, **kwargs)\n"
     ]
    },
    {
     "name": "stdout",
     "output_type": "stream",
     "text": [
      "Max depth: 21\n",
      "R2: 0.33\n",
      "MSE: 319.1\n",
      "RMSE: 17.863370342687297\n",
      "MAE: 13.12\n",
      "MAPE: 7.09\n",
      "\n"
     ]
    },
    {
     "name": "stderr",
     "output_type": "stream",
     "text": [
      "c:\\Users\\bruni\\AppData\\Local\\Programs\\Python\\Python312\\Lib\\site-packages\\sklearn\\base.py:1474: DataConversionWarning: A column-vector y was passed when a 1d array was expected. Please change the shape of y to (n_samples,), for example using ravel().\n",
      "  return fit_method(estimator, *args, **kwargs)\n"
     ]
    },
    {
     "name": "stdout",
     "output_type": "stream",
     "text": [
      "Max depth: 22\n",
      "R2: 0.33\n",
      "MSE: 319.46\n",
      "RMSE: 17.873443988218945\n",
      "MAE: 13.09\n",
      "MAPE: 7.1\n",
      "\n"
     ]
    },
    {
     "name": "stderr",
     "output_type": "stream",
     "text": [
      "c:\\Users\\bruni\\AppData\\Local\\Programs\\Python\\Python312\\Lib\\site-packages\\sklearn\\base.py:1474: DataConversionWarning: A column-vector y was passed when a 1d array was expected. Please change the shape of y to (n_samples,), for example using ravel().\n",
      "  return fit_method(estimator, *args, **kwargs)\n"
     ]
    },
    {
     "name": "stdout",
     "output_type": "stream",
     "text": [
      "Max depth: 23\n",
      "R2: 0.33\n",
      "MSE: 318.25\n",
      "RMSE: 17.839562774911272\n",
      "MAE: 13.04\n",
      "MAPE: 7.02\n",
      "\n"
     ]
    },
    {
     "name": "stderr",
     "output_type": "stream",
     "text": [
      "c:\\Users\\bruni\\AppData\\Local\\Programs\\Python\\Python312\\Lib\\site-packages\\sklearn\\base.py:1474: DataConversionWarning: A column-vector y was passed when a 1d array was expected. Please change the shape of y to (n_samples,), for example using ravel().\n",
      "  return fit_method(estimator, *args, **kwargs)\n"
     ]
    },
    {
     "name": "stdout",
     "output_type": "stream",
     "text": [
      "Max depth: 24\n",
      "R2: 0.33\n",
      "MSE: 318.03\n",
      "RMSE: 17.833395638520443\n",
      "MAE: 13.04\n",
      "MAPE: 7.05\n",
      "\n"
     ]
    },
    {
     "name": "stderr",
     "output_type": "stream",
     "text": [
      "c:\\Users\\bruni\\AppData\\Local\\Programs\\Python\\Python312\\Lib\\site-packages\\sklearn\\base.py:1474: DataConversionWarning: A column-vector y was passed when a 1d array was expected. Please change the shape of y to (n_samples,), for example using ravel().\n",
      "  return fit_method(estimator, *args, **kwargs)\n"
     ]
    },
    {
     "name": "stdout",
     "output_type": "stream",
     "text": [
      "Max depth: 25\n",
      "R2: 0.33\n",
      "MSE: 318.09\n",
      "RMSE: 17.835077796297945\n",
      "MAE: 13.06\n",
      "MAPE: 7.03\n",
      "\n"
     ]
    },
    {
     "name": "stderr",
     "output_type": "stream",
     "text": [
      "c:\\Users\\bruni\\AppData\\Local\\Programs\\Python\\Python312\\Lib\\site-packages\\sklearn\\base.py:1474: DataConversionWarning: A column-vector y was passed when a 1d array was expected. Please change the shape of y to (n_samples,), for example using ravel().\n",
      "  return fit_method(estimator, *args, **kwargs)\n"
     ]
    },
    {
     "name": "stdout",
     "output_type": "stream",
     "text": [
      "Max depth: 26\n",
      "R2: 0.34\n",
      "MSE: 317.31\n",
      "RMSE: 17.813197354770423\n",
      "MAE: 13.02\n",
      "MAPE: 7.04\n",
      "\n"
     ]
    },
    {
     "name": "stderr",
     "output_type": "stream",
     "text": [
      "c:\\Users\\bruni\\AppData\\Local\\Programs\\Python\\Python312\\Lib\\site-packages\\sklearn\\base.py:1474: DataConversionWarning: A column-vector y was passed when a 1d array was expected. Please change the shape of y to (n_samples,), for example using ravel().\n",
      "  return fit_method(estimator, *args, **kwargs)\n"
     ]
    },
    {
     "name": "stdout",
     "output_type": "stream",
     "text": [
      "Max depth: 27\n",
      "R2: 0.33\n",
      "MSE: 318.43\n",
      "RMSE: 17.844607028455403\n",
      "MAE: 13.04\n",
      "MAPE: 7.01\n",
      "\n"
     ]
    },
    {
     "name": "stderr",
     "output_type": "stream",
     "text": [
      "c:\\Users\\bruni\\AppData\\Local\\Programs\\Python\\Python312\\Lib\\site-packages\\sklearn\\base.py:1474: DataConversionWarning: A column-vector y was passed when a 1d array was expected. Please change the shape of y to (n_samples,), for example using ravel().\n",
      "  return fit_method(estimator, *args, **kwargs)\n"
     ]
    },
    {
     "name": "stdout",
     "output_type": "stream",
     "text": [
      "Max depth: 28\n",
      "R2: 0.33\n",
      "MSE: 318.37\n",
      "RMSE: 17.842925769054805\n",
      "MAE: 13.05\n",
      "MAPE: 7.02\n",
      "\n"
     ]
    },
    {
     "name": "stderr",
     "output_type": "stream",
     "text": [
      "c:\\Users\\bruni\\AppData\\Local\\Programs\\Python\\Python312\\Lib\\site-packages\\sklearn\\base.py:1474: DataConversionWarning: A column-vector y was passed when a 1d array was expected. Please change the shape of y to (n_samples,), for example using ravel().\n",
      "  return fit_method(estimator, *args, **kwargs)\n"
     ]
    },
    {
     "name": "stdout",
     "output_type": "stream",
     "text": [
      "Max depth: 29\n",
      "R2: 0.33\n",
      "MSE: 318.3\n",
      "RMSE: 17.84096409950987\n",
      "MAE: 13.02\n",
      "MAPE: 7.04\n",
      "\n"
     ]
    },
    {
     "name": "stderr",
     "output_type": "stream",
     "text": [
      "c:\\Users\\bruni\\AppData\\Local\\Programs\\Python\\Python312\\Lib\\site-packages\\sklearn\\base.py:1474: DataConversionWarning: A column-vector y was passed when a 1d array was expected. Please change the shape of y to (n_samples,), for example using ravel().\n",
      "  return fit_method(estimator, *args, **kwargs)\n"
     ]
    },
    {
     "name": "stdout",
     "output_type": "stream",
     "text": [
      "Max depth: 30\n",
      "R2: 0.33\n",
      "MSE: 318.89\n",
      "RMSE: 17.85749142516944\n",
      "MAE: 13.04\n",
      "MAPE: 7.02\n",
      "\n"
     ]
    }
   ],
   "source": [
    "for i in range (10, 31, 1):\n",
    "    rf_reg = RandomForestRegressor(max_depth=i)\n",
    "    rf_reg.fit(X_train, y_train)\n",
    "\n",
    "    y_pred = rf_reg.predict(X_val)\n",
    "\n",
    "    r2 = mt.r2_score(y_val, y_pred).round(2)\n",
    "    mse = mt.mean_squared_error(y_val, y_pred).round(2)\n",
    "    rmse = np.sqrt(mse)\n",
    "    mae = mt.mean_absolute_error(y_val, y_pred).round(2)\n",
    "    mape = mt.mean_absolute_percentage_error(y_val, y_pred).round(2)\n",
    "\n",
    "    print(\"Max depth: {}\".format(i))\n",
    "    print(\"R2: {}\".format(r2))\n",
    "    print(\"MSE: {}\".format(mse))\n",
    "    print(\"RMSE: {}\".format(rmse))\n",
    "    print(\"MAE: {}\".format(mae))\n",
    "    print(\"MAPE: {}\\n\".format(mape))"
   ]
  },
  {
   "cell_type": "markdown",
   "metadata": {},
   "source": [
    "## Test"
   ]
  },
  {
   "cell_type": "code",
   "execution_count": 28,
   "metadata": {},
   "outputs": [
    {
     "name": "stderr",
     "output_type": "stream",
     "text": [
      "c:\\Users\\bruni\\AppData\\Local\\Programs\\Python\\Python312\\Lib\\site-packages\\sklearn\\base.py:1474: DataConversionWarning: A column-vector y was passed when a 1d array was expected. Please change the shape of y to (n_samples,), for example using ravel().\n",
      "  return fit_method(estimator, *args, **kwargs)\n"
     ]
    },
    {
     "name": "stdout",
     "output_type": "stream",
     "text": [
      "Max depth: 30\n",
      "R2: 0.4\n",
      "MSE: 292.25\n",
      "RMSE: 17.09532099727876\n",
      "MAE: 12.3\n",
      "MAPE: 6.29\n",
      "\n"
     ]
    },
    {
     "name": "stderr",
     "output_type": "stream",
     "text": [
      "c:\\Users\\bruni\\AppData\\Local\\Programs\\Python\\Python312\\Lib\\site-packages\\sklearn\\base.py:486: UserWarning: X has feature names, but RandomForestRegressor was fitted without feature names\n",
      "  warnings.warn(\n"
     ]
    }
   ],
   "source": [
    "best_max_depth = 26\n",
    "\n",
    "\n",
    "rf_reg = RandomForestRegressor(max_depth=best_max_depth)\n",
    "rf_reg.fit(X, y)\n",
    "\n",
    "y_pred = rf_reg.predict(X_test)\n",
    "\n",
    "r2 = mt.r2_score(y_test, y_pred).round(2)\n",
    "mse = mt.mean_squared_error(y_test, y_pred).round(2)\n",
    "rmse = np.sqrt(mse)\n",
    "mae = mt.mean_absolute_error(y_test, y_pred).round(2)\n",
    "mape = mt.mean_absolute_percentage_error(y_test, y_pred).round(2)\n",
    "\n",
    "print(\"R2: {}\".format(r2))\n",
    "print(\"MSE: {}\".format(mse))\n",
    "print(\"RMSE: {}\".format(rmse))\n",
    "print(\"MAE: {}\".format(mae))\n",
    "print(\"MAPE: {}\\n\".format(mape))"
   ]
  },
  {
   "cell_type": "markdown",
   "metadata": {},
   "source": [
    "# Polinomial Regression"
   ]
  },
  {
   "cell_type": "markdown",
   "metadata": {},
   "source": [
    "## Train"
   ]
  },
  {
   "cell_type": "code",
   "execution_count": null,
   "metadata": {},
   "outputs": [],
   "source": [
    "for i in range (1, 10):\n",
    "\n",
    "    poly = pp.PolynomialFeatures(degree=i)\n",
    "    X_poly = poly.fit_transform( X_train.reshape(-1, 1) )\n",
    "\n",
    "    # model training\n",
    "    model = lm.LinearRegression()\n",
    "    model.fit( X_poly, y_train )\n",
    "\n",
    "    # predict\n",
    "    y_pred = model.predict(X_poly)\n",
    "\n",
    "    r2 = mt.r2_score(y_train, y_pred).round(2)\n",
    "    mse = mt.mean_squared_error(y_train, y_pred).round(2)\n",
    "    rmse = np.sqrt(mse)\n",
    "    mae = mt.mean_absolute_error(y_train, y_pred).round(2)\n",
    "    mape = mt.mean_absolute_percentage_error(y_train, y_pred).round(2)\n",
    "\n",
    "    print(\"Max depth: {}\".format(i))\n",
    "    print(\"R2: {}\".format(r2))\n",
    "    print(\"MSE: {}\".format(mse))\n",
    "    print(\"RMSE: {}\".format(rmse))\n",
    "    print(\"MAE: {}\".format(mae))\n",
    "    print(\"MAPE: {}\\n\".format(mape))"
   ]
  },
  {
   "cell_type": "code",
   "execution_count": null,
   "metadata": {},
   "outputs": [],
   "source": [
    "for i in range (10, 31, 1):\n",
    "    rf_reg = RandomForestRegressor(max_depth=i)\n",
    "    rf_reg.fit(X_train, y_train)\n",
    "\n",
    "    y_pred = rf_reg.predict(X_val)\n",
    "\n",
    "    r2 = mt.r2_score(y_val, y_pred).round(2)\n",
    "    mse = mt.mean_squared_error(y_val, y_pred).round(2)\n",
    "    rmse = np.sqrt(mse)\n",
    "    mae = mt.mean_absolute_error(y_val, y_pred).round(2)\n",
    "    mape = mt.mean_absolute_percentage_error(y_val, y_pred).round(2)\n",
    "\n",
    "    print(\"Max depth: {}\".format(i))\n",
    "    print(\"R2: {}\".format(r2))\n",
    "    print(\"MSE: {}\".format(mse))\n",
    "    print(\"RMSE: {}\".format(rmse))\n",
    "    print(\"MAE: {}\".format(mae))\n",
    "    print(\"MAPE: {}\\n\".format(mape))"
   ]
  },
  {
   "cell_type": "markdown",
   "metadata": {},
   "source": [
    "## Validation"
   ]
  },
  {
   "cell_type": "markdown",
   "metadata": {},
   "source": [
    "## Test"
   ]
  }
 ],
 "metadata": {
  "kernelspec": {
   "display_name": "Python 3",
   "language": "python",
   "name": "python3"
  },
  "language_info": {
   "codemirror_mode": {
    "name": "ipython",
    "version": 3
   },
   "file_extension": ".py",
   "mimetype": "text/x-python",
   "name": "python",
   "nbconvert_exporter": "python",
   "pygments_lexer": "ipython3",
   "version": "3.12.2"
  }
 },
 "nbformat": 4,
 "nbformat_minor": 2
}
